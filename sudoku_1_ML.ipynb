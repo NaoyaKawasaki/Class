{
 "cells": [
  {
   "cell_type": "code",
   "execution_count": null,
   "metadata": {},
   "outputs": [],
   "source": [
    "import os\n",
    "import cv2\n",
    "import joblib\n",
    "import numpy as np\n",
    "import pandas as pd\n",
    "import matplotlib.pyplot as plt"
   ]
  },
  {
   "cell_type": "code",
   "execution_count": null,
   "metadata": {},
   "outputs": [],
   "source": [
    "file = './data/samples_/level2/sudoku_022'\n",
    "file_problem = file + '.jpg'\n",
    "img = cv2.imread(file_problem, cv2.IMREAD_COLOR)\n",
    "img = cv2.cvtColor(img, cv2.COLOR_BGR2RGB)\n",
    "gray = cv2.cvtColor(img, cv2.COLOR_RGB2GRAY)"
   ]
  },
  {
   "cell_type": "code",
   "execution_count": null,
   "metadata": {},
   "outputs": [],
   "source": [
    "plt.imshow(img)\n",
    "plt.axis('off')\n",
    "plt.show()"
   ]
  },
  {
   "cell_type": "code",
   "execution_count": null,
   "metadata": {},
   "outputs": [],
   "source": [
    "# ぼかし処理\n",
    "blur = cv2.GaussianBlur(gray, None, 3.0)"
   ]
  },
  {
   "cell_type": "code",
   "execution_count": null,
   "metadata": {},
   "outputs": [],
   "source": [
    "# 大津の二値化\n",
    "thr, binary = cv2.threshold(gray, 0, 255, cv2.THRESH_OTSU)"
   ]
  },
  {
   "cell_type": "code",
   "execution_count": null,
   "metadata": {},
   "outputs": [],
   "source": [
    "edge = cv2.Canny(binary, 150, 200)\n",
    "edge = cv2.dilate(edge, np.ones((11, 11), dtype=edge.dtype))\n",
    "edge = cv2.erode(edge, np.ones((9, 9), dtype=edge.dtype))"
   ]
  },
  {
   "cell_type": "code",
   "execution_count": null,
   "metadata": {},
   "outputs": [],
   "source": [
    "contours, _ = cv2.findContours(edge, cv2.RETR_EXTERNAL, cv2.CHAIN_APPROX_SIMPLE)\n",
    "\n",
    "result = img.copy()\n",
    "cv2.drawContours(result, contours, -1, (255, 0, 0), 3, cv2.LINE_AA)\n",
    "plt.imshow(result)\n",
    "plt.axis('off')\n",
    "plt.show()"
   ]
  },
  {
   "cell_type": "code",
   "execution_count": null,
   "metadata": {},
   "outputs": [],
   "source": [
    "longest_cnt = None\n",
    "max_length = 0.0\n",
    "for cnt in contours:\n",
    "    # 輪郭線の長さを計算\n",
    "    arclen = cv2.arcLength(cnt, True)\n",
    "    if max_length < arclen:\n",
    "        max_length = arclen\n",
    "        longest_cnt = cnt\n",
    "arclen = cv2.arcLength(longest_cnt, True)\n",
    "approx = cv2.approxPolyDP(longest_cnt, arclen * 1.0e-1, True)"
   ]
  },
  {
   "cell_type": "code",
   "execution_count": null,
   "metadata": {},
   "outputs": [],
   "source": [
    "result = img.copy()\n",
    "cv2.drawContours(result, [approx], -1, (255, 0, 0), 3, cv2.LINE_AA)\n",
    "plt.imshow(result)\n",
    "plt.axis('off')\n",
    "plt.show()"
   ]
  },
  {
   "cell_type": "code",
   "execution_count": null,
   "metadata": {},
   "outputs": [],
   "source": [
    "# 近似輪郭線から頂点を取得 (左上、右上、右下、左下の順番に並べる)\n",
    "src_pts = approx.reshape((-1, 2)).astype(\"float32\")\n",
    "\n",
    "# 各頂点が以下の順序で並んでいることを確認します：\n",
    "# 左上、右上、右下、左下\n",
    "def order_points(pts):\n",
    "    rect = np.zeros((4, 2), dtype=\"float32\")\n",
    "    \n",
    "    # 合計値が最小の点が左上、最大の点が右下\n",
    "    s = pts.sum(axis=1)\n",
    "    rect[0] = pts[np.argmin(s)]  # 左上\n",
    "    rect[2] = pts[np.argmax(s)]  # 右下\n",
    "\n",
    "    # 差分が最小の点が右上、最大の点が左下\n",
    "    diff = np.diff(pts, axis=1)\n",
    "    rect[1] = pts[np.argmin(diff)]  # 右上\n",
    "    rect[3] = pts[np.argmax(diff)]  # 左下\n",
    "\n",
    "    return rect\n",
    "\n",
    "# 頂点を正しい順序に並べ替え\n",
    "src_pts = order_points(src_pts)\n",
    "\n",
    "# 縦横比の計算\n",
    "w = np.linalg.norm(src_pts[1] - src_pts[0])  # 右上 - 左上\n",
    "h = np.linalg.norm(src_pts[3] - src_pts[0])  # 左下 - 左上\n",
    "aspect = abs(w) / abs(h)\n",
    "\n",
    "# 新しい画像サイズを設定\n",
    "new_w = int(1000 * aspect)\n",
    "new_h = 1000\n",
    "\n",
    "# 射影変換先の座標 (左上、右上、右下、左下)\n",
    "dst_pts = np.array([(0, 0), (new_w, 0), (new_w, new_h), (0, new_h)], dtype=\"float32\")\n",
    "\n",
    "# 射影変換を計算して、パースをキャンセルする\n",
    "warp = cv2.getPerspectiveTransform(src_pts, dst_pts)\n",
    "result = cv2.warpPerspective(img, warp, (new_w, new_h))"
   ]
  },
  {
   "cell_type": "code",
   "execution_count": null,
   "metadata": {},
   "outputs": [],
   "source": [
    "gray_ = cv2.cvtColor(result, cv2.COLOR_BGR2GRAY)\n",
    "\n",
    "# 大津の二値化\n",
    "thr_, binary_ = cv2.threshold(gray_, 0, 255, cv2.THRESH_OTSU)"
   ]
  },
  {
   "cell_type": "code",
   "execution_count": null,
   "metadata": {},
   "outputs": [],
   "source": [
    "# 結果画像の高さと幅\n",
    "h, w = binary_.shape[:2]\n",
    "\n",
    "# 各セルのサイズを計算\n",
    "cell_w = w // 9  # 幅を9等分\n",
    "cell_h = h // 9  # 高さを9等分"
   ]
  },
  {
   "cell_type": "code",
   "execution_count": null,
   "metadata": {},
   "outputs": [],
   "source": [
    "# 各セルを切り出す\n",
    "cells = []\n",
    "for i in range(9):\n",
    "    for j in range(9):\n",
    "        # 縦横それぞれ上/下/左/右を10%ずつ切り取る\n",
    "        x1 = j * cell_w + cell_w // 8  # 左端から1/8カット\n",
    "        y1 = i * cell_h + cell_h // 8  # 上端から1/8カット\n",
    "        x2 = (j + 1) * cell_w - cell_w // 8  # 右端から1/8カット\n",
    "        y2 = (i + 1) * cell_h - cell_h // 8  # 下端から1/8カット\n",
    "        \n",
    "        # セルを画像から切り出す\n",
    "        cell = binary_[y1:y2, x1:x2]\n",
    "        \n",
    "        # 切り出したセルをリストに追加\n",
    "        cells.append(cell)"
   ]
  },
  {
   "cell_type": "code",
   "execution_count": null,
   "metadata": {},
   "outputs": [],
   "source": [
    "# 保存したモデルを読み込む\n",
    "model = joblib.load('model.pkl')\n",
    "print(\"モデルが読み込まれました。\")"
   ]
  },
  {
   "cell_type": "code",
   "execution_count": null,
   "metadata": {},
   "outputs": [],
   "source": [
    "# 各画像を(64, 64)にリサイズし、1次元配列にフラット化\n",
    "X = np.array([cv2.resize(cell, (64, 64)).flatten() / 255.0 for cell in cells], dtype='double')\n",
    "\n",
    "# 予測を行う\n",
    "predictions = model.predict(X)\n",
    "\n",
    "# problemリストに予測結果を格納する\n",
    "problem = []\n",
    "\n",
    "for prediction in predictions:\n",
    "    if prediction == 'None':\n",
    "        problem.append(0)  # Noneの予測結果には0を追加\n",
    "    else:\n",
    "        problem.append(int(prediction))  # その他は文字列型をint型に変換して追加\n",
    "\n",
    "# 結果の表示\n",
    "print(problem)"
   ]
  },
  {
   "cell_type": "code",
   "execution_count": null,
   "metadata": {},
   "outputs": [],
   "source": [
    "problem = np.array(problem).reshape((9, 9))\n",
    "print(problem)"
   ]
  },
  {
   "cell_type": "code",
   "execution_count": null,
   "metadata": {},
   "outputs": [],
   "source": [
    "file_answer = file + '.txt'\n",
    "answer = np.loadtxt(file_answer, dtype = int)\n",
    "answer"
   ]
  },
  {
   "cell_type": "code",
   "execution_count": null,
   "metadata": {},
   "outputs": [],
   "source": [
    "def check_sudoku_solution(problem, answer):\n",
    "    \n",
    "    is_equal = np.array_equal(problem, answer)\n",
    "    \n",
    "    if is_equal:\n",
    "        print(\"予測と実際の値は一致します。\")\n",
    "    else:\n",
    "        print(\"予測と実際の値は一致しません。\")\n",
    "    \n",
    "    return is_equal\n"
   ]
  },
  {
   "cell_type": "code",
   "execution_count": null,
   "metadata": {},
   "outputs": [],
   "source": [
    "check_sudoku_solution(problem, answer)"
   ]
  },
  {
   "cell_type": "code",
   "execution_count": null,
   "metadata": {},
   "outputs": [],
   "source": [
    "# ナンプレのボードを表示する関数\n",
    "def print_board(board):\n",
    "    for row in board:\n",
    "        print(\" \".join(str(num) if num != 0 else \".\" for num in row))"
   ]
  },
  {
   "cell_type": "code",
   "execution_count": null,
   "metadata": {},
   "outputs": [],
   "source": [
    "# 数独がルールに従っているかを確認する関数\n",
    "def is_valid(board, row, col, num):\n",
    "    # 行に同じ数字があるかを確認\n",
    "    if num in board[row]:\n",
    "        return False\n",
    "    \n",
    "    # 列に同じ数字があるかを確認\n",
    "    if num in [board[i][col] for i in range(9)]:\n",
    "        return False\n",
    "    \n",
    "    # 3x3のボックス内に同じ数字があるかを確認\n",
    "    box_row = row // 3 * 3\n",
    "    box_col = col // 3 * 3\n",
    "    for i in range(3):\n",
    "        for j in range(3):\n",
    "            if board[box_row + i][box_col + j] == num:\n",
    "                return False\n",
    "    \n",
    "    return True"
   ]
  },
  {
   "cell_type": "code",
   "execution_count": null,
   "metadata": {},
   "outputs": [],
   "source": [
    "# ナンプレをバックトラッキングで解く関数\n",
    "def solve_sudoku(board):\n",
    "    for row in range(9):\n",
    "        for col in range(9):\n",
    "            # 空いているマス（0）を探す\n",
    "            if board[row][col] == 0:\n",
    "                # 1〜9までの数字を試す\n",
    "                for num in range(1, 10):\n",
    "                    if is_valid(board, row, col, num):\n",
    "                        board[row][col] = num\n",
    "                        \n",
    "                        # 再帰的に解く\n",
    "                        if solve_sudoku(board):\n",
    "                            return True\n",
    "                        \n",
    "                        # うまくいかない場合は元に戻す\n",
    "                        board[row][col] = 0\n",
    "                \n",
    "                # どの数字も置けない場合はFalseを返す\n",
    "                return False\n",
    "    \n",
    "    return True"
   ]
  },
  {
   "cell_type": "code",
   "execution_count": null,
   "metadata": {},
   "outputs": [],
   "source": [
    "problem"
   ]
  },
  {
   "cell_type": "code",
   "execution_count": null,
   "metadata": {},
   "outputs": [],
   "source": [
    "if solve_sudoku(problem):\n",
    "    print(\"\\n解けた数独:\")\n",
    "    print_board(problem)\n",
    "else:\n",
    "    print(\"\\n解くことができませんでした。\")"
   ]
  },
  {
   "cell_type": "code",
   "execution_count": null,
   "metadata": {},
   "outputs": [],
   "source": []
  }
 ],
 "metadata": {
  "kernelspec": {
   "display_name": ".venv",
   "language": "python",
   "name": "python3"
  },
  "language_info": {
   "codemirror_mode": {
    "name": "ipython",
    "version": 3
   },
   "file_extension": ".py",
   "mimetype": "text/x-python",
   "name": "python",
   "nbconvert_exporter": "python",
   "pygments_lexer": "ipython3",
   "version": "3.9.13"
  }
 },
 "nbformat": 4,
 "nbformat_minor": 2
}
